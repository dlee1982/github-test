{
  "nbformat": 4,
  "nbformat_minor": 0,
  "metadata": {
    "colab": {
      "name": "Exercise 1.ipynb",
      "provenance": [],
      "collapsed_sections": [],
      "authorship_tag": "ABX9TyMD3MqGqiC4WOZNb8QxRhRR",
      "include_colab_link": true
    },
    "kernelspec": {
      "name": "python3",
      "display_name": "Python 3"
    },
    "language_info": {
      "name": "python"
    }
  },
  "cells": [
    {
      "cell_type": "markdown",
      "metadata": {
        "id": "view-in-github",
        "colab_type": "text"
      },
      "source": [
        "<a href=\"https://colab.research.google.com/github/dlee1982/github-test/blob/main/Exercise_1.ipynb\" target=\"_parent\"><img src=\"https://colab.research.google.com/assets/colab-badge.svg\" alt=\"Open In Colab\"/></a>"
      ]
    },
    {
      "cell_type": "code",
      "execution_count": 2,
      "metadata": {
        "id": "1PszBata9lfY"
      },
      "outputs": [],
      "source": [
        "import random"
      ]
    },
    {
      "cell_type": "code",
      "source": [
        "def guessing_game(): \n",
        "  \"\"\"\n",
        "  When ran, the function chooses a random integer between 0 and 100 (inclusive). \n",
        "  Then asks the user to guess what number has been chosen. \n",
        "  Each time the user enters a guess, the program indicates one of the following: \n",
        "    - Too high\n",
        "    - Too low \n",
        "    - Just right \n",
        "  If the user guesses correctly, the program exits.  Otherwise, the user is asked to try again. \n",
        "  The program only exits after the user guesses correctly. \n",
        "  \"\"\"\n",
        "\n",
        "  number = random.randint(0, 100)\n",
        "  print(number)\n",
        "  guess = int(input(\"Please enter a guess\"))\n",
        "\n",
        "  while guess != number: \n",
        "    if guess > number: \n",
        "      print('Too high')\n",
        "    else: \n",
        "      print('Too low')\n",
        "    \n",
        "    guess = int(input(\"Please enter a guess\"))\n",
        "\n",
        "    if guess == number: \n",
        "      print('Just right')"
      ],
      "metadata": {
        "id": "rXige25lBsBO"
      },
      "execution_count": 12,
      "outputs": []
    },
    {
      "cell_type": "code",
      "source": [
        "guessing_game()"
      ],
      "metadata": {
        "id": "KtXVhSwyEHhW",
        "colab": {
          "base_uri": "https://localhost:8080/"
        },
        "outputId": "9fe96992-c1ca-4c1d-a172-38e6f77c7f4e"
      },
      "execution_count": 13,
      "outputs": [
        {
          "output_type": "stream",
          "name": "stdout",
          "text": [
            "65\n",
            "Please enter a guess60\n",
            "Too low\n",
            "Please enter a guess90\n",
            "Too high\n",
            "Please enter a guess65\n",
            "Just right\n"
          ]
        }
      ]
    },
    {
      "cell_type": "code",
      "source": [
        ""
      ],
      "metadata": {
        "id": "y6JJPa_6_oB5"
      },
      "execution_count": null,
      "outputs": []
    }
  ]
}